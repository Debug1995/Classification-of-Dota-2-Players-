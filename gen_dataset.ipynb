{
 "cells": [
  {
   "cell_type": "markdown",
   "metadata": {},
   "source": [
    "# Generate Dataset from Dota2 API"
   ]
  },
  {
   "cell_type": "code",
   "execution_count": 3,
   "metadata": {},
   "outputs": [],
   "source": [
    "import dota2api\n",
    "api = dota2api.Initialise(\"86FE36CEEF0FECD245B5C711C8B82C5A\")"
   ]
  },
  {
   "cell_type": "code",
   "execution_count": 5,
   "metadata": {
    "scrolled": true
   },
   "outputs": [
    {
     "name": "stdout",
     "output_type": "stream",
     "text": [
      "{u'dire_team_id': 1838315, u'barracks_status_dire': 63, u'match_id': 1000193456, 'lobby_name': u'Practice', u'barracks_status_radiant': 63, u'cluster': 133, u'first_blood_time': 124, u'dire_score': 0, u'duration': 1964, u'radiant_win': False, u'human_players': 10, u'tower_status_dire': 1844, u'radiant_logo': 307739466828348574L, u'radiant_captain': 21265941, u'radiant_team_complete': 0, 'cluster_name': u'Europe West', u'leagueid': 2140, 'game_mode_name': u'Captains Draft', u'dire_captain': 87278757, u'engine': 0, u'radiant_score': 0, u'lobby_type': 1, u'dire_name': u'Team Secret', u'start_time': 1414952136, u'match_seq_num': 895207201, u'tower_status_radiant': 1798, u'negative_votes': 17, u'picks_bans': [{u'team': 1, u'hero_id': 12, u'order': 0, u'is_pick': False}, {u'team': 0, u'hero_id': 91, u'order': 1, u'is_pick': False}, {u'team': 1, u'hero_id': 15, u'order': 2, u'is_pick': False}, {u'team': 0, u'hero_id': 78, u'order': 3, u'is_pick': False}, {u'team': 1, u'hero_id': 30, u'order': 4, u'is_pick': False}, {u'team': 0, u'hero_id': 7, u'order': 5, u'is_pick': False}, {u'team': 1, u'hero_id': 69, u'order': 6, u'is_pick': True}, {u'team': 0, u'hero_id': 64, u'order': 7, u'is_pick': True}, {u'team': 0, u'hero_id': 103, u'order': 8, u'is_pick': True}, {u'team': 1, u'hero_id': 20, u'order': 9, u'is_pick': True}, {u'team': 1, u'hero_id': 39, u'order': 10, u'is_pick': True}, {u'team': 0, u'hero_id': 5, u'order': 11, u'is_pick': True}, {u'team': 0, u'hero_id': 23, u'order': 12, u'is_pick': True}, {u'team': 1, u'hero_id': 54, u'order': 13, u'is_pick': True}, {u'team': 1, u'hero_id': 28, u'order': 14, u'is_pick': True}, {u'team': 0, u'hero_id': 56, u'order': 15, u'is_pick': True}], u'radiant_team_id': 350190, u'positive_votes': 469, u'game_mode': 16, u'dire_logo': 543025270456493033L, u'dire_team_complete': 1, u'players': [{u'deaths': 5, 'item_0_name': u'Smoke of Deceit', u'last_hits': 87, 'item_4_name': u'Drum of Endurance', 'item_1_name': u'Blink Dagger', u'player_slot': 0, u'denies': 5, 'hero_name': u'Kunkka', 'item_5_name': u'Town Portal Scroll', 'item_2_name': u'Phase Boots', u'item_5': 46, u'hero_id': 23, u'xp_per_min': 387, u'account_id': 21265941, u'kills': 6, 'leaver_status_description': u'finished match, no abandon', u'backpack_1': 0, u'backpack_0': 0, u'leaver_status': 0, 'item_3_name': u'Crystalys', u'assists': 5, u'gold_per_min': 354, 'leaver_status_name': u'NONE', u'level': 15, u'item_4': 185, u'backpack_2': 0, u'item_2': 50, u'item_3': 149, u'item_0': 188, u'item_1': 1}, {u'deaths': 5, 'item_0_name': u'Force Staff', u'last_hits': 48, 'item_4_name': u'Tranquil Boots', 'item_1_name': u'Buckler', u'player_slot': 1, u'denies': 0, 'hero_name': u'Elder Titan', 'item_2_name': u'Town Portal Scroll', u'item_5': 0, u'hero_id': 103, u'xp_per_min': 285, u'account_id': 44513538, u'kills': 0, 'leaver_status_description': u'finished match, no abandon', u'backpack_1': 0, u'backpack_0': 0, u'leaver_status': 0, 'item_3_name': u'Soul Ring', u'assists': 10, u'gold_per_min': 243, 'leaver_status_name': u'NONE', u'level': 13, u'item_4': 214, u'backpack_2': 0, u'item_2': 46, u'item_3': 178, u'item_0': 102, u'item_1': 86}, {u'deaths': 6, 'item_0_name': u'Blink Dagger', u'last_hits': 136, 'item_4_name': u'Crystalys', 'item_1_name': u'Orchid Malevolence', u'player_slot': 2, u'denies': 9, 'hero_name': u'Clinkz', 'item_5_name': u'Wraith Band', u'item_5': 75, u'hero_id': 56, u'xp_per_min': 454, u'account_id': 96169991, u'kills': 5, 'leaver_status_description': u'player dc, clicked leave, abandon', u'backpack_1': 0, u'backpack_0': 0, u'leaver_status': 3, 'item_3_name': u'Power Treads', u'assists': 3, u'gold_per_min': 391, 'leaver_status_name': u'ABANDONED', u'level': 16, u'item_4': 149, u'backpack_2': 0, u'item_2': 0, u'item_3': 63, u'item_0': 1, u'item_1': 98}, {u'deaths': 8, 'item_3_name': u\"Eul's Scepter of Divinity\", u'last_hits': 97, 'item_4_name': u'Tranquil Boots', 'item_1_name': u'Blink Dagger', u'player_slot': 3, u'denies': 1, 'hero_name': u'Jakiro', 'item_5_name': u'Ghost Scepter', 'item_2_name': u'Iron Branch', u'item_5': 37, u'hero_id': 64, u'xp_per_min': 364, u'account_id': 97590558, u'kills': 3, 'leaver_status_description': u'finished match, no abandon', u'backpack_1': 0, u'backpack_0': 0, u'leaver_status': 0, u'assists': 5, u'gold_per_min': 340, 'leaver_status_name': u'NONE', u'level': 15, u'item_4': 214, u'backpack_2': 0, u'item_2': 16, u'item_3': 100, u'item_0': 0, u'item_1': 1}, {u'deaths': 8, 'item_0_name': u'Tranquil Boots', u'last_hits': 38, 'item_4_name': u'Hand of Midas', u'player_slot': 4, u'denies': 0, 'hero_name': u'Crystal Maiden', u'item_5': 0, u'hero_id': 5, u'xp_per_min': 318, u'account_id': 25907144, u'kills': 3, 'leaver_status_description': u'player dc, clicked leave, abandon', u'backpack_1': 0, u'backpack_0': 0, u'leaver_status': 3, 'item_3_name': u'Ghost Scepter', u'assists': 8, u'gold_per_min': 278, 'leaver_status_name': u'ABANDONED', u'level': 14, u'item_4': 65, u'backpack_2': 0, u'item_2': 0, u'item_3': 37, u'item_0': 214, u'item_1': 0}, {u'deaths': 3, 'item_0_name': u'Bottle', u'last_hits': 50, 'item_1_name': u'Power Treads', u'player_slot': 128, u'denies': 3, 'hero_name': u'Vengeful Spirit', 'item_5_name': u'Urn of Shadows', 'item_2_name': u'Magic Wand', u'item_5': 92, u'hero_id': 20, u'xp_per_min': 450, u'account_id': 87278757, u'kills': 2, 'leaver_status_description': u'finished match, no abandon', u'backpack_1': 0, u'backpack_0': 0, u'leaver_status': 0, 'item_3_name': u'Town Portal Scroll', u'assists': 20, u'gold_per_min': 258, 'leaver_status_name': u'NONE', u'level': 16, u'item_4': 0, u'backpack_2': 0, u'item_2': 36, u'item_3': 46, u'item_0': 41, u'item_1': 63}, {u'deaths': 7, 'item_0_name': u'Medallion of Courage', u'last_hits': 41, 'item_4_name': u'Dust of Appearance', 'item_1_name': u'Tranquil Boots', u'player_slot': 129, u'denies': 15, 'hero_name': u'Slardar', 'item_5_name': u'Town Portal Scroll', 'item_2_name': u'Blink Dagger', u'item_5': 46, u'hero_id': 28, u'xp_per_min': 297, u'account_id': 19672354, u'kills': 2, 'leaver_status_description': u'finished match, no abandon', u'backpack_1': 0, u'backpack_0': 0, u'leaver_status': 0, 'item_3_name': u'Magic Stick', u'assists': 15, u'gold_per_min': 248, 'leaver_status_name': u'NONE', u'level': 13, u'item_4': 40, u'backpack_2': 0, u'item_2': 1, u'item_3': 34, u'item_0': 187, u'item_1': 214}, {u'deaths': 2, 'item_0_name': u'Gem of True Sight', u'last_hits': 146, 'item_4_name': u'Black King Bar', 'item_1_name': u'Magic Wand', u'player_slot': 130, u'denies': 24, 'hero_name': u'Queen of Pain', 'item_5_name': u'Town Portal Scroll', 'item_2_name': u'Scythe of Vyse', u'item_5': 46, u'hero_id': 39, u'xp_per_min': 639, u'account_id': 41231571, u'kills': 10, 'leaver_status_description': u'finished match, no abandon', u'backpack_1': 0, u'backpack_0': 0, u'leaver_status': 0, 'item_3_name': u'Power Treads', u'assists': 12, u'gold_per_min': 511, 'leaver_status_name': u'NONE', u'level': 20, u'item_4': 116, u'backpack_2': 0, u'item_2': 96, u'item_3': 63, u'item_0': 30, u'item_1': 36}, {u'deaths': 2, 'item_0_name': u'Mjollnir', u'last_hits': 241, 'item_4_name': u'Phase Boots', 'item_1_name': u'Assault Cuirass', u'player_slot': 131, u'denies': 12, 'hero_name': u'Lifestealer', 'item_5_name': u'Aegis of the Immortal', 'item_2_name': u'Sange and Yasha', u'item_5': 117, u'hero_id': 54, u'xp_per_min': 696, u'account_id': 82262664, u'kills': 7, 'leaver_status_description': u'finished match, no abandon', u'backpack_1': 0, u'backpack_0': 0, u'leaver_status': 0, 'item_3_name': u'Hand of Midas', u'assists': 11, u'gold_per_min': 659, 'leaver_status_name': u'NONE', u'level': 20, u'item_4': 50, u'backpack_2': 0, u'item_2': 154, u'item_3': 65, u'item_0': 158, u'item_1': 112}, {u'deaths': 3, 'item_0_name': u'Magic Stick', u'last_hits': 112, 'item_4_name': u\"Shiva's Guard\", 'item_1_name': u'Tranquil Boots', u'player_slot': 132, u'denies': 5, 'hero_name': u'Doom', 'item_5_name': u'Black King Bar', 'item_2_name': u'Blink Dagger', u'item_5': 116, u'hero_id': 69, u'xp_per_min': 604, u'account_id': 94155156, u'kills': 11, 'leaver_status_description': u'finished match, no abandon', u'backpack_1': 0, u'backpack_0': 0, u'leaver_status': 0, 'item_3_name': u'Hand of Midas', u'assists': 11, u'gold_per_min': 562, 'leaver_status_name': u'NONE', u'level': 19, u'item_4': 119, u'backpack_2': 0, u'item_2': 1, u'item_3': 65, u'item_0': 34, u'item_1': 214}], u'flags': 0, u'pre_game_duration': 0, u'radiant_name': u'Fnatic'}\n"
     ]
    }
   ],
   "source": [
    "match = api.get_match_details(match_id=1000193456)\n",
    "match_detail = api.get_match_details(match_id=1000193456)\n",
    "print match_detail"
   ]
  },
  {
   "cell_type": "code",
   "execution_count": null,
   "metadata": {},
   "outputs": [],
   "source": []
  }
 ],
 "metadata": {
  "kernelspec": {
   "display_name": "Python 2",
   "language": "python",
   "name": "python2"
  },
  "language_info": {
   "codemirror_mode": {
    "name": "ipython",
    "version": 2
   },
   "file_extension": ".py",
   "mimetype": "text/x-python",
   "name": "python",
   "nbconvert_exporter": "python",
   "pygments_lexer": "ipython2",
   "version": "2.7.12"
  }
 },
 "nbformat": 4,
 "nbformat_minor": 2
}
